{
  "cells": [
    {
      "cell_type": "markdown",
      "metadata": {
        "id": "view-in-github",
        "colab_type": "text"
      },
      "source": [
        "<a href=\"https://colab.research.google.com/github/AgnikanMahato/Chat-with-Dataframe/blob/main/Hill_%26_Valley_prediction_with_logistic_regression.ipynb\" target=\"_parent\"><img src=\"https://colab.research.google.com/assets/colab-badge.svg\" alt=\"Open In Colab\"/></a>"
      ]
    },
    {
      "cell_type": "markdown",
      "metadata": {
        "id": "cA0eMjVVIL3H"
      },
      "source": [
        "# Hill and Valley Prediction with Logistic Regression"
      ]
    },
    {
      "cell_type": "markdown",
      "metadata": {
        "id": "uFDSF9QuIyz4"
      },
      "source": [
        "### Objective : To predict whether a given set of coordinates on a two-dimensional graph represents a \"Hill\" or a \"Valley\" using logistic regression."
      ]
    },
    {
      "cell_type": "markdown",
      "metadata": {
        "id": "frh7ska8mcdz"
      },
      "source": [
        "## Import Library"
      ]
    },
    {
      "cell_type": "code",
      "execution_count": null,
      "metadata": {
        "id": "wXqjzlGmpgX_"
      },
      "outputs": [],
      "source": [
        "import pandas as pd"
      ]
    },
    {
      "cell_type": "markdown",
      "metadata": {
        "id": "07wqgZZ1I3gQ"
      },
      "source": [
        "## Import Data"
      ]
    },
    {
      "cell_type": "code",
      "execution_count": null,
      "metadata": {
        "id": "dDggCBIWHpaN"
      },
      "outputs": [],
      "source": [
        "df=pd.read_csv(r'C:\\Users\\hp\\OneDrive - RICE Group\\YBI\\Hill Valley Dataset.csv')"
      ]
    },
    {
      "cell_type": "markdown",
      "metadata": {
        "id": "C-0FzSXuJArz"
      },
      "source": [
        "**Get the first five rows of Dataframe**"
      ]
    },
    {
      "cell_type": "code",
      "execution_count": null,
      "metadata": {
        "id": "8DgYSbTYH4Jj",
        "outputId": "fb0e41a6-9eea-4b9c-829c-0f27775d14d4"
      },
      "outputs": [
        {
          "data": {
            "text/html": [
              "<div>\n",
              "<style scoped>\n",
              "    .dataframe tbody tr th:only-of-type {\n",
              "        vertical-align: middle;\n",
              "    }\n",
              "\n",
              "    .dataframe tbody tr th {\n",
              "        vertical-align: top;\n",
              "    }\n",
              "\n",
              "    .dataframe thead th {\n",
              "        text-align: right;\n",
              "    }\n",
              "</style>\n",
              "<table border=\"1\" class=\"dataframe\">\n",
              "  <thead>\n",
              "    <tr style=\"text-align: right;\">\n",
              "      <th></th>\n",
              "      <th>V1</th>\n",
              "      <th>V2</th>\n",
              "      <th>V3</th>\n",
              "      <th>V4</th>\n",
              "      <th>V5</th>\n",
              "      <th>V6</th>\n",
              "      <th>V7</th>\n",
              "      <th>V8</th>\n",
              "      <th>V9</th>\n",
              "      <th>V10</th>\n",
              "      <th>...</th>\n",
              "      <th>V92</th>\n",
              "      <th>V93</th>\n",
              "      <th>V94</th>\n",
              "      <th>V95</th>\n",
              "      <th>V96</th>\n",
              "      <th>V97</th>\n",
              "      <th>V98</th>\n",
              "      <th>V99</th>\n",
              "      <th>V100</th>\n",
              "      <th>Class</th>\n",
              "    </tr>\n",
              "  </thead>\n",
              "  <tbody>\n",
              "    <tr>\n",
              "      <th>0</th>\n",
              "      <td>39.02</td>\n",
              "      <td>36.49</td>\n",
              "      <td>38.20</td>\n",
              "      <td>38.85</td>\n",
              "      <td>39.38</td>\n",
              "      <td>39.74</td>\n",
              "      <td>37.02</td>\n",
              "      <td>39.53</td>\n",
              "      <td>38.81</td>\n",
              "      <td>38.79</td>\n",
              "      <td>...</td>\n",
              "      <td>36.62</td>\n",
              "      <td>36.92</td>\n",
              "      <td>38.80</td>\n",
              "      <td>38.52</td>\n",
              "      <td>38.07</td>\n",
              "      <td>36.73</td>\n",
              "      <td>39.46</td>\n",
              "      <td>37.50</td>\n",
              "      <td>39.10</td>\n",
              "      <td>0</td>\n",
              "    </tr>\n",
              "    <tr>\n",
              "      <th>1</th>\n",
              "      <td>1.83</td>\n",
              "      <td>1.71</td>\n",
              "      <td>1.77</td>\n",
              "      <td>1.77</td>\n",
              "      <td>1.68</td>\n",
              "      <td>1.78</td>\n",
              "      <td>1.80</td>\n",
              "      <td>1.70</td>\n",
              "      <td>1.75</td>\n",
              "      <td>1.78</td>\n",
              "      <td>...</td>\n",
              "      <td>1.80</td>\n",
              "      <td>1.79</td>\n",
              "      <td>1.77</td>\n",
              "      <td>1.74</td>\n",
              "      <td>1.74</td>\n",
              "      <td>1.80</td>\n",
              "      <td>1.78</td>\n",
              "      <td>1.75</td>\n",
              "      <td>1.69</td>\n",
              "      <td>1</td>\n",
              "    </tr>\n",
              "    <tr>\n",
              "      <th>2</th>\n",
              "      <td>68177.69</td>\n",
              "      <td>66138.42</td>\n",
              "      <td>72981.88</td>\n",
              "      <td>74304.33</td>\n",
              "      <td>67549.66</td>\n",
              "      <td>69367.34</td>\n",
              "      <td>69169.41</td>\n",
              "      <td>73268.61</td>\n",
              "      <td>74465.84</td>\n",
              "      <td>72503.37</td>\n",
              "      <td>...</td>\n",
              "      <td>73438.88</td>\n",
              "      <td>71053.35</td>\n",
              "      <td>71112.62</td>\n",
              "      <td>74916.48</td>\n",
              "      <td>72571.58</td>\n",
              "      <td>66348.97</td>\n",
              "      <td>71063.72</td>\n",
              "      <td>67404.27</td>\n",
              "      <td>74920.24</td>\n",
              "      <td>1</td>\n",
              "    </tr>\n",
              "    <tr>\n",
              "      <th>3</th>\n",
              "      <td>44889.06</td>\n",
              "      <td>39191.86</td>\n",
              "      <td>40728.46</td>\n",
              "      <td>38576.36</td>\n",
              "      <td>45876.06</td>\n",
              "      <td>47034.00</td>\n",
              "      <td>46611.43</td>\n",
              "      <td>37668.32</td>\n",
              "      <td>40980.89</td>\n",
              "      <td>38466.15</td>\n",
              "      <td>...</td>\n",
              "      <td>42625.67</td>\n",
              "      <td>40684.20</td>\n",
              "      <td>46960.73</td>\n",
              "      <td>44546.80</td>\n",
              "      <td>45410.53</td>\n",
              "      <td>47139.44</td>\n",
              "      <td>43095.68</td>\n",
              "      <td>40888.34</td>\n",
              "      <td>39615.19</td>\n",
              "      <td>0</td>\n",
              "    </tr>\n",
              "    <tr>\n",
              "      <th>4</th>\n",
              "      <td>5.70</td>\n",
              "      <td>5.40</td>\n",
              "      <td>5.28</td>\n",
              "      <td>5.38</td>\n",
              "      <td>5.27</td>\n",
              "      <td>5.61</td>\n",
              "      <td>6.00</td>\n",
              "      <td>5.38</td>\n",
              "      <td>5.34</td>\n",
              "      <td>5.87</td>\n",
              "      <td>...</td>\n",
              "      <td>5.17</td>\n",
              "      <td>5.67</td>\n",
              "      <td>5.60</td>\n",
              "      <td>5.94</td>\n",
              "      <td>5.73</td>\n",
              "      <td>5.22</td>\n",
              "      <td>5.30</td>\n",
              "      <td>5.73</td>\n",
              "      <td>5.91</td>\n",
              "      <td>0</td>\n",
              "    </tr>\n",
              "  </tbody>\n",
              "</table>\n",
              "<p>5 rows × 101 columns</p>\n",
              "</div>"
            ],
            "text/plain": [
              "         V1        V2        V3        V4        V5        V6        V7  \\\n",
              "0     39.02     36.49     38.20     38.85     39.38     39.74     37.02   \n",
              "1      1.83      1.71      1.77      1.77      1.68      1.78      1.80   \n",
              "2  68177.69  66138.42  72981.88  74304.33  67549.66  69367.34  69169.41   \n",
              "3  44889.06  39191.86  40728.46  38576.36  45876.06  47034.00  46611.43   \n",
              "4      5.70      5.40      5.28      5.38      5.27      5.61      6.00   \n",
              "\n",
              "         V8        V9       V10  ...       V92       V93       V94       V95  \\\n",
              "0     39.53     38.81     38.79  ...     36.62     36.92     38.80     38.52   \n",
              "1      1.70      1.75      1.78  ...      1.80      1.79      1.77      1.74   \n",
              "2  73268.61  74465.84  72503.37  ...  73438.88  71053.35  71112.62  74916.48   \n",
              "3  37668.32  40980.89  38466.15  ...  42625.67  40684.20  46960.73  44546.80   \n",
              "4      5.38      5.34      5.87  ...      5.17      5.67      5.60      5.94   \n",
              "\n",
              "        V96       V97       V98       V99      V100  Class  \n",
              "0     38.07     36.73     39.46     37.50     39.10      0  \n",
              "1      1.74      1.80      1.78      1.75      1.69      1  \n",
              "2  72571.58  66348.97  71063.72  67404.27  74920.24      1  \n",
              "3  45410.53  47139.44  43095.68  40888.34  39615.19      0  \n",
              "4      5.73      5.22      5.30      5.73      5.91      0  \n",
              "\n",
              "[5 rows x 101 columns]"
            ]
          },
          "execution_count": 4,
          "metadata": {},
          "output_type": "execute_result"
        }
      ],
      "source": [
        "df.head()"
      ]
    },
    {
      "cell_type": "markdown",
      "metadata": {
        "id": "2TgD5ZxXJIpx"
      },
      "source": [
        "**Get Information of Dataframe**"
      ]
    },
    {
      "cell_type": "code",
      "execution_count": null,
      "metadata": {
        "id": "xuZgRMULH-nK",
        "outputId": "149613ae-14e8-4534-e45e-4aba0c2749ca"
      },
      "outputs": [
        {
          "name": "stdout",
          "output_type": "stream",
          "text": [
            "<class 'pandas.core.frame.DataFrame'>\n",
            "RangeIndex: 1212 entries, 0 to 1211\n",
            "Columns: 101 entries, V1 to Class\n",
            "dtypes: float64(100), int64(1)\n",
            "memory usage: 956.5 KB\n"
          ]
        }
      ],
      "source": [
        "df.info()"
      ]
    },
    {
      "cell_type": "markdown",
      "metadata": {
        "id": "73Wd5vmOmcd1"
      },
      "source": [
        "## Describe Data"
      ]
    },
    {
      "cell_type": "markdown",
      "metadata": {
        "id": "8Cj0PSy4JSGf"
      },
      "source": [
        "**Get the summary Statistics**"
      ]
    },
    {
      "cell_type": "code",
      "execution_count": null,
      "metadata": {
        "execution": {
          "iopub.status.busy": "2024-09-11T13:45:56.093422Z",
          "iopub.status.idle": "2024-09-11T13:45:56.093808Z",
          "shell.execute_reply": "2024-09-11T13:45:56.093642Z",
          "shell.execute_reply.started": "2024-09-11T13:45:56.093625Z"
        },
        "id": "Gj237i8UIATm"
      },
      "outputs": [],
      "source": [
        "df.describe()"
      ]
    },
    {
      "cell_type": "markdown",
      "metadata": {
        "id": "eTHF9DxUJeOR"
      },
      "source": [
        "**Get Column Names**"
      ]
    },
    {
      "cell_type": "code",
      "execution_count": null,
      "metadata": {
        "execution": {
          "iopub.status.busy": "2024-09-11T13:45:56.095317Z",
          "iopub.status.idle": "2024-09-11T13:45:56.095696Z",
          "shell.execute_reply": "2024-09-11T13:45:56.095534Z",
          "shell.execute_reply.started": "2024-09-11T13:45:56.095519Z"
        },
        "id": "VrGLTQvIJp-L"
      },
      "outputs": [],
      "source": [
        "df.columns"
      ]
    },
    {
      "cell_type": "code",
      "execution_count": null,
      "metadata": {
        "id": "wnISN48_Jt9Z",
        "outputId": "79718170-76ad-49aa-8ebc-424ede0595d9"
      },
      "outputs": [
        {
          "name": "stdout",
          "output_type": "stream",
          "text": [
            "['V1', 'V2', 'V3', 'V4', 'V5', 'V6', 'V7', 'V8', 'V9', 'V10', 'V11', 'V12', 'V13', 'V14', 'V15', 'V16', 'V17', 'V18', 'V19', 'V20', 'V21', 'V22', 'V23', 'V24', 'V25', 'V26', 'V27', 'V28', 'V29', 'V30', 'V31', 'V32', 'V33', 'V34', 'V35', 'V36', 'V37', 'V38', 'V39', 'V40', 'V41', 'V42', 'V43', 'V44', 'V45', 'V46', 'V47', 'V48', 'V49', 'V50', 'V51', 'V52', 'V53', 'V54', 'V55', 'V56', 'V57', 'V58', 'V59', 'V60', 'V61', 'V62', 'V63', 'V64', 'V65', 'V66', 'V67', 'V68', 'V69', 'V70', 'V71', 'V72', 'V73', 'V74', 'V75', 'V76', 'V77', 'V78', 'V79', 'V80', 'V81', 'V82', 'V83', 'V84', 'V85', 'V86', 'V87', 'V88', 'V89', 'V90', 'V91', 'V92', 'V93', 'V94', 'V95', 'V96', 'V97', 'V98', 'V99', 'V100', 'Class']\n"
          ]
        }
      ],
      "source": [
        "print(df.columns.tolist())"
      ]
    },
    {
      "cell_type": "markdown",
      "metadata": {
        "id": "oOeqKEaVKMMI"
      },
      "source": [
        "**Get Shape of data frame**"
      ]
    },
    {
      "cell_type": "code",
      "execution_count": null,
      "metadata": {
        "id": "nc3hqUTUKS7r",
        "outputId": "daa7a50f-c64d-4535-a6d7-d9f8337a78e2"
      },
      "outputs": [
        {
          "data": {
            "text/plain": [
              "(1212, 101)"
            ]
          },
          "execution_count": 7,
          "metadata": {},
          "output_type": "execute_result"
        }
      ],
      "source": [
        "df.shape"
      ]
    },
    {
      "cell_type": "markdown",
      "metadata": {
        "id": "NL0cq8joKfA_"
      },
      "source": [
        "## Define Target Variable (y) and Feature Variables (X)\n"
      ]
    },
    {
      "cell_type": "code",
      "execution_count": null,
      "metadata": {
        "id": "w_Ii4EJuK2uB"
      },
      "outputs": [],
      "source": [
        "y=df['Class']"
      ]
    },
    {
      "cell_type": "code",
      "execution_count": null,
      "metadata": {
        "id": "6XybwIp6LF4F"
      },
      "outputs": [],
      "source": [
        "X=df[['V1', 'V2', 'V3', 'V4', 'V5', 'V6', 'V7', 'V8', 'V9', 'V10', 'V11', 'V12', 'V13', 'V14', 'V15', 'V16', 'V17', 'V18', 'V19', 'V20', 'V21', 'V22', 'V23', 'V24', 'V25', 'V26', 'V27', 'V28', 'V29', 'V30', 'V31', 'V32', 'V33', 'V34', 'V35', 'V36', 'V37', 'V38', 'V39', 'V40', 'V41', 'V42', 'V43', 'V44', 'V45', 'V46', 'V47', 'V48', 'V49', 'V50', 'V51', 'V52', 'V53', 'V54', 'V55', 'V56', 'V57', 'V58', 'V59', 'V60', 'V61', 'V62', 'V63', 'V64', 'V65', 'V66', 'V67', 'V68', 'V69', 'V70', 'V71', 'V72', 'V73', 'V74', 'V75', 'V76', 'V77', 'V78', 'V79', 'V80', 'V81', 'V82', 'V83', 'V84', 'V85', 'V86', 'V87', 'V88', 'V89', 'V90', 'V91', 'V92', 'V93', 'V94', 'V95', 'V96', 'V97', 'V98', 'V99', 'V100']]"
      ]
    },
    {
      "cell_type": "markdown",
      "metadata": {
        "id": "3Ba9rO-Fmcd3"
      },
      "source": [
        "## Data Visualization"
      ]
    },
    {
      "cell_type": "markdown",
      "metadata": {
        "id": "HeOyCDshLxUJ"
      },
      "source": [
        "**Get plot of First two rows**"
      ]
    },
    {
      "cell_type": "code",
      "execution_count": null,
      "metadata": {
        "id": "vVKosLaBL3qE"
      },
      "outputs": [],
      "source": [
        "import matplotlib.pyplot as plt"
      ]
    },
    {
      "cell_type": "code",
      "execution_count": null,
      "metadata": {
        "id": "Ex2FWB6fL9Pa",
        "outputId": "8fee8aa0-4143-47a1-869c-36c8b58b9b56"
      },
      "outputs": [
        {
          "data": {
            "text/plain": [
              "Text(0.5, 1.0, 'Valley')"
            ]
          },
          "execution_count": 13,
          "metadata": {},
          "output_type": "execute_result"
        },
        {
          "data": {
            "image/png": "[encoded data removed]",
            "text/plain": [
              "<Figure size 640x480 with 1 Axes>"
            ]
          },
          "metadata": {},
          "output_type": "display_data"
        }
      ],
      "source": [
        "plt.plot(X.iloc[0,:])\n",
        "plt.title('Valley')"
      ]
    },
    {
      "cell_type": "code",
      "execution_count": null,
      "metadata": {
        "id": "MyrTTU1CMWVR",
        "outputId": "2b694b45-b207-42e7-8a79-d914da69d5b2"
      },
      "outputs": [
        {
          "data": {
            "text/plain": [
              "Text(0.5, 1.0, 'Hill')"
            ]
          },
          "execution_count": 14,
          "metadata": {},
          "output_type": "execute_result"
        },
        {
          "data": {
            "image/png": "[encoded data removed]",
            "text/plain": [
              "<Figure size 640x480 with 1 Axes>"
            ]
          },
          "metadata": {},
          "output_type": "display_data"
        }
      ],
      "source": [
        "plt.plot(X.iloc[1,:])\n",
        "plt.title('Hill')"
      ]
    },
    {
      "cell_type": "code",
      "execution_count": null,
      "metadata": {
        "id": "MNP1hQk7Mlm_"
      },
      "outputs": [],
      "source": [
        "from sklearn.preprocessing import StandardScaler"
      ]
    },
    {
      "cell_type": "code",
      "execution_count": null,
      "metadata": {
        "id": "NzsnCLd3Mtvq"
      },
      "outputs": [],
      "source": [
        "ss= StandardScaler()"
      ]
    },
    {
      "cell_type": "code",
      "execution_count": null,
      "metadata": {
        "id": "j_ceHovsM0br"
      },
      "outputs": [],
      "source": [
        "X=ss.fit_transform(X)"
      ]
    },
    {
      "cell_type": "code",
      "execution_count": null,
      "metadata": {
        "id": "R3iytHt1M5j7",
        "outputId": "0ba34429-927e-41ff-eb63-f493e6c5165e"
      },
      "outputs": [
        {
          "data": {
            "text/plain": [
              "array([[-0.45248681, -0.45361784, -0.45100881, ..., -0.45609618,\n",
              "        -0.45164274, -0.45545496],\n",
              "       [-0.45455665, -0.45556372, -0.45302369, ..., -0.45821768,\n",
              "        -0.45362255, -0.45755405],\n",
              "       [ 3.33983504,  3.24466709,  3.58338069, ...,  3.5427869 ,\n",
              "         3.27907378,  3.74616847],\n",
              "       ...,\n",
              "       [ 0.11084204,  0.0505953 ,  0.04437307, ...,  0.12533312,\n",
              "         0.04456025,  0.06450317],\n",
              "       [-0.45272112, -0.45369729, -0.45118691, ..., -0.45648861,\n",
              "        -0.45190136, -0.45569511],\n",
              "       [ 0.01782872, -0.02636986,  0.05196137, ...,  0.03036056,\n",
              "         0.01087365,  0.03123129]])"
            ]
          },
          "execution_count": 18,
          "metadata": {},
          "output_type": "execute_result"
        }
      ],
      "source": [
        "X"
      ]
    },
    {
      "cell_type": "code",
      "execution_count": null,
      "metadata": {
        "id": "iL3BAq7cNFvd",
        "outputId": "23a1f83f-38ef-423a-cb47-6f2e796163c6"
      },
      "outputs": [
        {
          "data": {
            "text/plain": [
              "(1212, 100)"
            ]
          },
          "execution_count": 19,
          "metadata": {},
          "output_type": "execute_result"
        }
      ],
      "source": [
        "X.shape"
      ]
    },
    {
      "cell_type": "markdown",
      "metadata": {
        "id": "8suC5iTNGe-s"
      },
      "source": [
        "## Train Test Split"
      ]
    },
    {
      "cell_type": "code",
      "execution_count": null,
      "metadata": {
        "id": "pVKy07DgHC_r"
      },
      "outputs": [],
      "source": [
        "from sklearn.model_selection import train_test_split"
      ]
    },
    {
      "cell_type": "code",
      "execution_count": null,
      "metadata": {
        "id": "1HjT4DexHNmc"
      },
      "outputs": [],
      "source": [
        "X_train,X_test,y_train,y_test=train_test_split(X,y, test_size=0.3, stratify=y ,random_state=2529)"
      ]
    },
    {
      "cell_type": "markdown",
      "metadata": {
        "id": "uCvJ84yTHmoj"
      },
      "source": [
        "## Modeling"
      ]
    },
    {
      "cell_type": "code",
      "execution_count": null,
      "metadata": {
        "id": "3N5b8oKuGmpv"
      },
      "outputs": [],
      "source": [
        "from sklearn.linear_model import LogisticRegression"
      ]
    },
    {
      "cell_type": "code",
      "execution_count": null,
      "metadata": {
        "id": "a7hNLWGqGzIC"
      },
      "outputs": [],
      "source": [
        "lr=LogisticRegression()"
      ]
    },
    {
      "cell_type": "code",
      "execution_count": null,
      "metadata": {
        "id": "tw_VryjwGy1k",
        "outputId": "835cbfb7-f30f-47e6-82c8-6b15dd22c0a5"
      },
      "outputs": [
        {
          "data": {
            "text/html": [
              "<style>#sk-container-id-1 {\n",
              "  /* Definition of color scheme common for light and dark mode */\n",
              "  --sklearn-color-text: black;\n",
              "  --sklearn-color-line: gray;\n",
              "  /* Definition of color scheme for unfitted estimators */\n",
              "  --sklearn-color-unfitted-level-0: #fff5e6;\n",
              "  --sklearn-color-unfitted-level-1: #f6e4d2;\n",
              "  --sklearn-color-unfitted-level-2: #ffe0b3;\n",
              "  --sklearn-color-unfitted-level-3: chocolate;\n",
              "  /* Definition of color scheme for fitted estimators */\n",
              "  --sklearn-color-fitted-level-0: #f0f8ff;\n",
              "  --sklearn-color-fitted-level-1: #d4ebff;\n",
              "  --sklearn-color-fitted-level-2: #b3dbfd;\n",
              "  --sklearn-color-fitted-level-3: cornflowerblue;\n",
              "\n",
              "  /* Specific color for light theme */\n",
              "  --sklearn-color-text-on-default-background: var(--sg-text-color, var(--theme-code-foreground, var(--jp-content-font-color1, black)));\n",
              "  --sklearn-color-background: var(--sg-background-color, var(--theme-background, var(--jp-layout-color0, white)));\n",
              "  --sklearn-color-border-box: var(--sg-text-color, var(--theme-code-foreground, var(--jp-content-font-color1, black)));\n",
              "  --sklearn-color-icon: #696969;\n",
              "\n",
              "  @media (prefers-color-scheme: dark) {\n",
              "    /* Redefinition of color scheme for dark theme */\n",
              "    --sklearn-color-text-on-default-background: var(--sg-text-color, var(--theme-code-foreground, var(--jp-content-font-color1, white)));\n",
              "    --sklearn-color-background: var(--sg-background-color, var(--theme-background, var(--jp-layout-color0, #111)));\n",
              "    --sklearn-color-border-box: var(--sg-text-color, var(--theme-code-foreground, var(--jp-content-font-color1, white)));\n",
              "    --sklearn-color-icon: #878787;\n",
              "  }\n",
              "}\n",
              "\n",
              "#sk-container-id-1 {\n",
              "  color: var(--sklearn-color-text);\n",
              "}\n",
              "\n",
              "#sk-container-id-1 pre {\n",
              "  padding: 0;\n",
              "}\n",
              "\n",
              "#sk-container-id-1 input.sk-hidden--visually {\n",
              "  border: 0;\n",
              "  clip: rect(1px 1px 1px 1px);\n",
              "  clip: rect(1px, 1px, 1px, 1px);\n",
              "  height: 1px;\n",
              "  margin: -1px;\n",
              "  overflow: hidden;\n",
              "  padding: 0;\n",
              "  position: absolute;\n",
              "  width: 1px;\n",
              "}\n",
              "\n",
              "#sk-container-id-1 div.sk-dashed-wrapped {\n",
              "  border: 1px dashed var(--sklearn-color-line);\n",
              "  margin: 0 0.4em 0.5em 0.4em;\n",
              "  box-sizing: border-box;\n",
              "  padding-bottom: 0.4em;\n",
              "  background-color: var(--sklearn-color-background);\n",
              "}\n",
              "\n",
              "#sk-container-id-1 div.sk-container {\n",
              "  /* jupyter's `normalize.less` sets `[hidden] { display: none; }`\n",
              "     but bootstrap.min.css set `[hidden] { display: none !important; }`\n",
              "     so we also need the `!important` here to be able to override the\n",
              "     default hidden behavior on the sphinx rendered scikit-learn.org.\n",
              "     See: https://github.com/scikit-learn/scikit-learn/issues/21755 */\n",
              "  display: inline-block !important;\n",
              "  position: relative;\n",
              "}\n",
              "\n",
              "#sk-container-id-1 div.sk-text-repr-fallback {\n",
              "  display: none;\n",
              "}\n",
              "\n",
              "div.sk-parallel-item,\n",
              "div.sk-serial,\n",
              "div.sk-item {\n",
              "  /* draw centered vertical line to link estimators */\n",
              "  background-image: linear-gradient(var(--sklearn-color-text-on-default-background), var(--sklearn-color-text-on-default-background));\n",
              "  background-size: 2px 100%;\n",
              "  background-repeat: no-repeat;\n",
              "  background-position: center center;\n",
              "}\n",
              "\n",
              "/* Parallel-specific style estimator block */\n",
              "\n",
              "#sk-container-id-1 div.sk-parallel-item::after {\n",
              "  content: \"\";\n",
              "  width: 100%;\n",
              "  border-bottom: 2px solid var(--sklearn-color-text-on-default-background);\n",
              "  flex-grow: 1;\n",
              "}\n",
              "\n",
              "#sk-container-id-1 div.sk-parallel {\n",
              "  display: flex;\n",
              "  align-items: stretch;\n",
              "  justify-content: center;\n",
              "  background-color: var(--sklearn-color-background);\n",
              "  position: relative;\n",
              "}\n",
              "\n",
              "#sk-container-id-1 div.sk-parallel-item {\n",
              "  display: flex;\n",
              "  flex-direction: column;\n",
              "}\n",
              "\n",
              "#sk-container-id-1 div.sk-parallel-item:first-child::after {\n",
              "  align-self: flex-end;\n",
              "  width: 50%;\n",
              "}\n",
              "\n",
              "#sk-container-id-1 div.sk-parallel-item:last-child::after {\n",
              "  align-self: flex-start;\n",
              "  width: 50%;\n",
              "}\n",
              "\n",
              "#sk-container-id-1 div.sk-parallel-item:only-child::after {\n",
              "  width: 0;\n",
              "}\n",
              "\n",
              "/* Serial-specific style estimator block */\n",
              "\n",
              "#sk-container-id-1 div.sk-serial {\n",
              "  display: flex;\n",
              "  flex-direction: column;\n",
              "  align-items: center;\n",
              "  background-color: var(--sklearn-color-background);\n",
              "  padding-right: 1em;\n",
              "  padding-left: 1em;\n",
              "}\n",
              "\n",
              "\n",
              "/* Toggleable style: style used for estimator/Pipeline/ColumnTransformer box that is\n",
              "clickable and can be expanded/collapsed.\n",
              "- Pipeline and ColumnTransformer use this feature and define the default style\n",
              "- Estimators will overwrite some part of the style using the `sk-estimator` class\n",
              "*/\n",
              "\n",
              "/* Pipeline and ColumnTransformer style (default) */\n",
              "\n",
              "#sk-container-id-1 div.sk-toggleable {\n",
              "  /* Default theme specific background. It is overwritten whether we have a\n",
              "  specific estimator or a Pipeline/ColumnTransformer */\n",
              "  background-color: var(--sklearn-color-background);\n",
              "}\n",
              "\n",
              "/* Toggleable label */\n",
              "#sk-container-id-1 label.sk-toggleable__label {\n",
              "  cursor: pointer;\n",
              "  display: block;\n",
              "  width: 100%;\n",
              "  margin-bottom: 0;\n",
              "  padding: 0.5em;\n",
              "  box-sizing: border-box;\n",
              "  text-align: center;\n",
              "}\n",
              "\n",
              "#sk-container-id-1 label.sk-toggleable__label-arrow:before {\n",
              "  /* Arrow on the left of the label */\n",
              "  content: \"▸\";\n",
              "  float: left;\n",
              "  margin-right: 0.25em;\n",
              "  color: var(--sklearn-color-icon);\n",
              "}\n",
              "\n",
              "#sk-container-id-1 label.sk-toggleable__label-arrow:hover:before {\n",
              "  color: var(--sklearn-color-text);\n",
              "}\n",
              "\n",
              "/* Toggleable content - dropdown */\n",
              "\n",
              "#sk-container-id-1 div.sk-toggleable__content {\n",
              "  max-height: 0;\n",
              "  max-width: 0;\n",
              "  overflow: hidden;\n",
              "  text-align: left;\n",
              "  /* unfitted */\n",
              "  background-color: var(--sklearn-color-unfitted-level-0);\n",
              "}\n",
              "\n",
              "#sk-container-id-1 div.sk-toggleable__content.fitted {\n",
              "  /* fitted */\n",
              "  background-color: var(--sklearn-color-fitted-level-0);\n",
              "}\n",
              "\n",
              "#sk-container-id-1 div.sk-toggleable__content pre {\n",
              "  margin: 0.2em;\n",
              "  border-radius: 0.25em;\n",
              "  color: var(--sklearn-color-text);\n",
              "  /* unfitted */\n",
              "  background-color: var(--sklearn-color-unfitted-level-0);\n",
              "}\n",
              "\n",
              "#sk-container-id-1 div.sk-toggleable__content.fitted pre {\n",
              "  /* unfitted */\n",
              "  background-color: var(--sklearn-color-fitted-level-0);\n",
              "}\n",
              "\n",
              "#sk-container-id-1 input.sk-toggleable__control:checked~div.sk-toggleable__content {\n",
              "  /* Expand drop-down */\n",
              "  max-height: 200px;\n",
              "  max-width: 100%;\n",
              "  overflow: auto;\n",
              "}\n",
              "\n",
              "#sk-container-id-1 input.sk-toggleable__control:checked~label.sk-toggleable__label-arrow:before {\n",
              "  content: \"▾\";\n",
              "}\n",
              "\n",
              "/* Pipeline/ColumnTransformer-specific style */\n",
              "\n",
              "#sk-container-id-1 div.sk-label input.sk-toggleable__control:checked~label.sk-toggleable__label {\n",
              "  color: var(--sklearn-color-text);\n",
              "  background-color: var(--sklearn-color-unfitted-level-2);\n",
              "}\n",
              "\n",
              "#sk-container-id-1 div.sk-label.fitted input.sk-toggleable__control:checked~label.sk-toggleable__label {\n",
              "  background-color: var(--sklearn-color-fitted-level-2);\n",
              "}\n",
              "\n",
              "/* Estimator-specific style */\n",
              "\n",
              "/* Colorize estimator box */\n",
              "#sk-container-id-1 div.sk-estimator input.sk-toggleable__control:checked~label.sk-toggleable__label {\n",
              "  /* unfitted */\n",
              "  background-color: var(--sklearn-color-unfitted-level-2);\n",
              "}\n",
              "\n",
              "#sk-container-id-1 div.sk-estimator.fitted input.sk-toggleable__control:checked~label.sk-toggleable__label {\n",
              "  /* fitted */\n",
              "  background-color: var(--sklearn-color-fitted-level-2);\n",
              "}\n",
              "\n",
              "#sk-container-id-1 div.sk-label label.sk-toggleable__label,\n",
              "#sk-container-id-1 div.sk-label label {\n",
              "  /* The background is the default theme color */\n",
              "  color: var(--sklearn-color-text-on-default-background);\n",
              "}\n",
              "\n",
              "/* On hover, darken the color of the background */\n",
              "#sk-container-id-1 div.sk-label:hover label.sk-toggleable__label {\n",
              "  color: var(--sklearn-color-text);\n",
              "  background-color: var(--sklearn-color-unfitted-level-2);\n",
              "}\n",
              "\n",
              "/* Label box, darken color on hover, fitted */\n",
              "#sk-container-id-1 div.sk-label.fitted:hover label.sk-toggleable__label.fitted {\n",
              "  color: var(--sklearn-color-text);\n",
              "  background-color: var(--sklearn-color-fitted-level-2);\n",
              "}\n",
              "\n",
              "/* Estimator label */\n",
              "\n",
              "#sk-container-id-1 div.sk-label label {\n",
              "  font-family: monospace;\n",
              "  font-weight: bold;\n",
              "  display: inline-block;\n",
              "  line-height: 1.2em;\n",
              "}\n",
              "\n",
              "#sk-container-id-1 div.sk-label-container {\n",
              "  text-align: center;\n",
              "}\n",
              "\n",
              "/* Estimator-specific */\n",
              "#sk-container-id-1 div.sk-estimator {\n",
              "  font-family: monospace;\n",
              "  border: 1px dotted var(--sklearn-color-border-box);\n",
              "  border-radius: 0.25em;\n",
              "  box-sizing: border-box;\n",
              "  margin-bottom: 0.5em;\n",
              "  /* unfitted */\n",
              "  background-color: var(--sklearn-color-unfitted-level-0);\n",
              "}\n",
              "\n",
              "#sk-container-id-1 div.sk-estimator.fitted {\n",
              "  /* fitted */\n",
              "  background-color: var(--sklearn-color-fitted-level-0);\n",
              "}\n",
              "\n",
              "/* on hover */\n",
              "#sk-container-id-1 div.sk-estimator:hover {\n",
              "  /* unfitted */\n",
              "  background-color: var(--sklearn-color-unfitted-level-2);\n",
              "}\n",
              "\n",
              "#sk-container-id-1 div.sk-estimator.fitted:hover {\n",
              "  /* fitted */\n",
              "  background-color: var(--sklearn-color-fitted-level-2);\n",
              "}\n",
              "\n",
              "/* Specification for estimator info (e.g. \"i\" and \"?\") */\n",
              "\n",
              "/* Common style for \"i\" and \"?\" */\n",
              "\n",
              ".sk-estimator-doc-link,\n",
              "a:link.sk-estimator-doc-link,\n",
              "a:visited.sk-estimator-doc-link {\n",
              "  float: right;\n",
              "  font-size: smaller;\n",
              "  line-height: 1em;\n",
              "  font-family: monospace;\n",
              "  background-color: var(--sklearn-color-background);\n",
              "  border-radius: 1em;\n",
              "  height: 1em;\n",
              "  width: 1em;\n",
              "  text-decoration: none !important;\n",
              "  margin-left: 1ex;\n",
              "  /* unfitted */\n",
              "  border: var(--sklearn-color-unfitted-level-1) 1pt solid;\n",
              "  color: var(--sklearn-color-unfitted-level-1);\n",
              "}\n",
              "\n",
              ".sk-estimator-doc-link.fitted,\n",
              "a:link.sk-estimator-doc-link.fitted,\n",
              "a:visited.sk-estimator-doc-link.fitted {\n",
              "  /* fitted */\n",
              "  border: var(--sklearn-color-fitted-level-1) 1pt solid;\n",
              "  color: var(--sklearn-color-fitted-level-1);\n",
              "}\n",
              "\n",
              "/* On hover */\n",
              "div.sk-estimator:hover .sk-estimator-doc-link:hover,\n",
              ".sk-estimator-doc-link:hover,\n",
              "div.sk-label-container:hover .sk-estimator-doc-link:hover,\n",
              ".sk-estimator-doc-link:hover {\n",
              "  /* unfitted */\n",
              "  background-color: var(--sklearn-color-unfitted-level-3);\n",
              "  color: var(--sklearn-color-background);\n",
              "  text-decoration: none;\n",
              "}\n",
              "\n",
              "div.sk-estimator.fitted:hover .sk-estimator-doc-link.fitted:hover,\n",
              ".sk-estimator-doc-link.fitted:hover,\n",
              "div.sk-label-container:hover .sk-estimator-doc-link.fitted:hover,\n",
              ".sk-estimator-doc-link.fitted:hover {\n",
              "  /* fitted */\n",
              "  background-color: var(--sklearn-color-fitted-level-3);\n",
              "  color: var(--sklearn-color-background);\n",
              "  text-decoration: none;\n",
              "}\n",
              "\n",
              "/* Span, style for the box shown on hovering the info icon */\n",
              ".sk-estimator-doc-link span {\n",
              "  display: none;\n",
              "  z-index: 9999;\n",
              "  position: relative;\n",
              "  font-weight: normal;\n",
              "  right: .2ex;\n",
              "  padding: .5ex;\n",
              "  margin: .5ex;\n",
              "  width: min-content;\n",
              "  min-width: 20ex;\n",
              "  max-width: 50ex;\n",
              "  color: var(--sklearn-color-text);\n",
              "  box-shadow: 2pt 2pt 4pt #999;\n",
              "  /* unfitted */\n",
              "  background: var(--sklearn-color-unfitted-level-0);\n",
              "  border: .5pt solid var(--sklearn-color-unfitted-level-3);\n",
              "}\n",
              "\n",
              ".sk-estimator-doc-link.fitted span {\n",
              "  /* fitted */\n",
              "  background: var(--sklearn-color-fitted-level-0);\n",
              "  border: var(--sklearn-color-fitted-level-3);\n",
              "}\n",
              "\n",
              ".sk-estimator-doc-link:hover span {\n",
              "  display: block;\n",
              "}\n",
              "\n",
              "/* \"?\"-specific style due to the `<a>` HTML tag */\n",
              "\n",
              "#sk-container-id-1 a.estimator_doc_link {\n",
              "  float: right;\n",
              "  font-size: 1rem;\n",
              "  line-height: 1em;\n",
              "  font-family: monospace;\n",
              "  background-color: var(--sklearn-color-background);\n",
              "  border-radius: 1rem;\n",
              "  height: 1rem;\n",
              "  width: 1rem;\n",
              "  text-decoration: none;\n",
              "  /* unfitted */\n",
              "  color: var(--sklearn-color-unfitted-level-1);\n",
              "  border: var(--sklearn-color-unfitted-level-1) 1pt solid;\n",
              "}\n",
              "\n",
              "#sk-container-id-1 a.estimator_doc_link.fitted {\n",
              "  /* fitted */\n",
              "  border: var(--sklearn-color-fitted-level-1) 1pt solid;\n",
              "  color: var(--sklearn-color-fitted-level-1);\n",
              "}\n",
              "\n",
              "/* On hover */\n",
              "#sk-container-id-1 a.estimator_doc_link:hover {\n",
              "  /* unfitted */\n",
              "  background-color: var(--sklearn-color-unfitted-level-3);\n",
              "  color: var(--sklearn-color-background);\n",
              "  text-decoration: none;\n",
              "}\n",
              "\n",
              "#sk-container-id-1 a.estimator_doc_link.fitted:hover {\n",
              "  /* fitted */\n",
              "  background-color: var(--sklearn-color-fitted-level-3);\n",
              "}\n",
              "</style><div id=\"sk-container-id-1\" class=\"sk-top-container\"><div class=\"sk-text-repr-fallback\"><pre>LogisticRegression()</pre><b>In a Jupyter environment, please rerun this cell to show the HTML representation or trust the notebook. <br />On GitHub, the HTML representation is unable to render, please try loading this page with nbviewer.org.</b></div><div class=\"sk-container\" hidden><div class=\"sk-item\"><div class=\"sk-estimator fitted sk-toggleable\"><input class=\"sk-toggleable__control sk-hidden--visually\" id=\"sk-estimator-id-1\" type=\"checkbox\" checked><label for=\"sk-estimator-id-1\" class=\"sk-toggleable__label fitted sk-toggleable__label-arrow fitted\">&nbsp;&nbsp;LogisticRegression<a class=\"sk-estimator-doc-link fitted\" rel=\"noreferrer\" target=\"_blank\" href=\"https://scikit-learn.org/1.5/modules/generated/sklearn.linear_model.LogisticRegression.html\">?<span>Documentation for LogisticRegression</span></a><span class=\"sk-estimator-doc-link fitted\">i<span>Fitted</span></span></label><div class=\"sk-toggleable__content fitted\"><pre>LogisticRegression()</pre></div> </div></div></div></div>"
            ],
            "text/plain": [
              "LogisticRegression()"
            ]
          },
          "execution_count": 25,
          "metadata": {},
          "output_type": "execute_result"
        }
      ],
      "source": [
        "lr.fit(X_train, y_train)"
      ]
    },
    {
      "cell_type": "markdown",
      "metadata": {
        "id": "kJr6-EXEHtEd"
      },
      "source": [
        "**Get Model Prediction**"
      ]
    },
    {
      "cell_type": "code",
      "execution_count": null,
      "metadata": {
        "id": "eHTQ2AmbHx-f"
      },
      "outputs": [],
      "source": [
        "y_pred=lr.predict(X_test)"
      ]
    },
    {
      "cell_type": "code",
      "execution_count": null,
      "metadata": {
        "id": "uVm1BEssH3S3",
        "outputId": "1d2412f8-614a-4eb4-d979-e616d624aee4"
      },
      "outputs": [
        {
          "data": {
            "text/plain": [
              "(364,)"
            ]
          },
          "execution_count": 27,
          "metadata": {},
          "output_type": "execute_result"
        }
      ],
      "source": [
        "y_pred.shape"
      ]
    },
    {
      "cell_type": "code",
      "execution_count": null,
      "metadata": {
        "id": "wiiOOyp6H6wb",
        "outputId": "06198ebe-4624-4bb9-cc66-b8eb40a7f3f9"
      },
      "outputs": [
        {
          "data": {
            "text/plain": [
              "array([0, 0, 0, 0, 0, 0, 0, 0, 0, 0, 0, 0, 0, 0, 0, 0, 1, 0, 0, 0, 1, 1,\n",
              "       0, 1, 0, 0, 0, 0, 0, 0, 1, 0, 1, 0, 0, 0, 0, 0, 0, 0, 0, 0, 1, 0,\n",
              "       0, 1, 0, 0, 0, 0, 0, 0, 0, 0, 0, 0, 0, 0, 0, 1, 0, 0, 0, 1, 0, 0,\n",
              "       0, 1, 0, 0, 0, 0, 0, 0, 0, 0, 1, 1, 0, 0, 0, 0, 0, 1, 0, 0, 0, 0,\n",
              "       0, 0, 0, 0, 0, 0, 0, 1, 1, 0, 0, 0, 0, 1, 0, 0, 0, 0, 0, 0, 0, 0,\n",
              "       1, 0, 0, 0, 0, 1, 0, 0, 0, 0, 0, 1, 0, 1, 0, 0, 0, 0, 0, 0, 0, 0,\n",
              "       0, 1, 0, 0, 0, 0, 1, 0, 0, 0, 0, 0, 0, 1, 0, 0, 0, 0, 0, 0, 0, 0,\n",
              "       0, 1, 0, 1, 0, 0, 0, 0, 0, 0, 0, 0, 0, 1, 0, 0, 0, 0, 0, 0, 0, 1,\n",
              "       0, 0, 0, 0, 0, 0, 0, 0, 0, 0, 1, 0, 0, 1, 0, 1, 0, 1, 0, 0, 0, 0,\n",
              "       0, 0, 0, 0, 0, 1, 1, 0, 0, 0, 0, 0, 0, 0, 1, 0, 1, 0, 0, 0, 1, 1,\n",
              "       0, 0, 0, 1, 0, 1, 0, 0, 0, 0, 1, 0, 1, 1, 0, 0, 1, 1, 0, 0, 1, 0,\n",
              "       0, 1, 0, 0, 0, 0, 0, 0, 0, 1, 0, 1, 0, 1, 0, 0, 0, 0, 1, 0, 1, 0,\n",
              "       0, 0, 0, 0, 0, 0, 0, 0, 0, 0, 0, 1, 0, 0, 0, 0, 0, 0, 0, 0, 0, 0,\n",
              "       0, 0, 1, 0, 0, 0, 1, 0, 1, 0, 1, 1, 1, 0, 1, 0, 0, 0, 1, 0, 1, 0,\n",
              "       1, 0, 0, 0, 0, 1, 1, 0, 0, 0, 0, 0, 0, 1, 0, 1, 0, 1, 1, 1, 0, 0,\n",
              "       0, 0, 0, 1, 0, 1, 0, 0, 0, 0, 0, 0, 0, 0, 1, 0, 0, 0, 1, 0, 0, 0,\n",
              "       0, 1, 0, 0, 0, 0, 0, 0, 0, 1, 0, 1], dtype=int64)"
            ]
          },
          "execution_count": 28,
          "metadata": {},
          "output_type": "execute_result"
        }
      ],
      "source": [
        "y_pred"
      ]
    },
    {
      "cell_type": "markdown",
      "metadata": {
        "id": "PPSUf3uVH-B0"
      },
      "source": [
        "**Probability of Each Predicted Class**"
      ]
    },
    {
      "cell_type": "code",
      "execution_count": null,
      "metadata": {
        "id": "b5ySfsl2IIr1",
        "outputId": "f6517e36-e735-4bb9-b143-4bced0f2a8b7"
      },
      "outputs": [
        {
          "data": {
            "text/plain": [
              "array([[0.56396943, 0.43603057],\n",
              "       [0.50346993, 0.49653007],\n",
              "       [0.57367016, 0.42632984],\n",
              "       [0.50746735, 0.49253265],\n",
              "       [0.50777948, 0.49222052],\n",
              "       [0.50881844, 0.49118156],\n",
              "       [0.50802044, 0.49197956],\n",
              "       [0.60477893, 0.39522107],\n",
              "       [0.51018979, 0.48981021],\n",
              "       [0.50977569, 0.49022431],\n",
              "       [0.50732385, 0.49267615],\n",
              "       [0.51515267, 0.48484733],\n",
              "       [0.93521369, 0.06478631],\n",
              "       [0.5097972 , 0.4902028 ],\n",
              "       [0.51999203, 0.48000797],\n",
              "       [0.73767693, 0.26232307],\n",
              "       [0.4737291 , 0.5262709 ],\n",
              "       [0.50792453, 0.49207547],\n",
              "       [0.50872854, 0.49127146],\n",
              "       [0.50874336, 0.49125664],\n",
              "       [0.29505453, 0.70494547],\n",
              "       [0.37970149, 0.62029851],\n",
              "       [0.50876232, 0.49123768],\n",
              "       [0.28400717, 0.71599283],\n",
              "       [0.50884332, 0.49115668],\n",
              "       [0.50716037, 0.49283963],\n",
              "       [0.50907097, 0.49092903],\n",
              "       [0.50806345, 0.49193655],\n",
              "       [0.50872302, 0.49127698],\n",
              "       [0.50759157, 0.49240843],\n",
              "       [0.41474567, 0.58525433],\n",
              "       [0.51341559, 0.48658441],\n",
              "       [0.19800573, 0.80199427],\n",
              "       [0.74901074, 0.25098926],\n",
              "       [0.50876185, 0.49123815],\n",
              "       [0.50873411, 0.49126589],\n",
              "       [0.50878865, 0.49121135],\n",
              "       [0.50864146, 0.49135854],\n",
              "       [0.51275394, 0.48724606],\n",
              "       [0.51710301, 0.48289699],\n",
              "       [0.50869004, 0.49130996],\n",
              "       [0.52050221, 0.47949779],\n",
              "       [0.27961265, 0.72038735],\n",
              "       [0.51101013, 0.48898987],\n",
              "       [0.54091754, 0.45908246],\n",
              "       [0.46722432, 0.53277568],\n",
              "       [0.50833561, 0.49166439],\n",
              "       [0.52322812, 0.47677188],\n",
              "       [0.50112568, 0.49887432],\n",
              "       [0.50886704, 0.49113296],\n",
              "       [0.50875126, 0.49124874],\n",
              "       [0.53999093, 0.46000907],\n",
              "       [0.50857467, 0.49142533],\n",
              "       [0.5074324 , 0.4925676 ],\n",
              "       [0.51469834, 0.48530166],\n",
              "       [0.50867302, 0.49132698],\n",
              "       [0.50871276, 0.49128724],\n",
              "       [0.50904264, 0.49095736],\n",
              "       [0.55876423, 0.44123577],\n",
              "       [0.35589228, 0.64410772],\n",
              "       [0.50457568, 0.49542432],\n",
              "       [0.50870146, 0.49129854],\n",
              "       [0.5087316 , 0.4912684 ],\n",
              "       [0.33075259, 0.66924741],\n",
              "       [0.51023227, 0.48976773],\n",
              "       [0.50864754, 0.49135246],\n",
              "       [0.56802684, 0.43197316],\n",
              "       [0.47821612, 0.52178388],\n",
              "       [0.50878019, 0.49121981],\n",
              "       [0.50659488, 0.49340512],\n",
              "       [0.50916481, 0.49083519],\n",
              "       [0.50873624, 0.49126376],\n",
              "       [0.51035254, 0.48964746],\n",
              "       [0.50840233, 0.49159767],\n",
              "       [0.5097116 , 0.4902884 ],\n",
              "       [0.59034572, 0.40965428],\n",
              "       [0.40641623, 0.59358377],\n",
              "       [0.36188745, 0.63811255],\n",
              "       [0.77551669, 0.22448331],\n",
              "       [0.54040975, 0.45959025],\n",
              "       [0.50869834, 0.49130166],\n",
              "       [0.50874664, 0.49125336],\n",
              "       [0.50831092, 0.49168908],\n",
              "       [0.49617446, 0.50382554],\n",
              "       [0.50869822, 0.49130178],\n",
              "       [0.50411414, 0.49588586],\n",
              "       [0.50875873, 0.49124127],\n",
              "       [0.5091888 , 0.4908112 ],\n",
              "       [0.50858646, 0.49141354],\n",
              "       [0.50063614, 0.49936386],\n",
              "       [0.64930667, 0.35069333],\n",
              "       [0.50876218, 0.49123782],\n",
              "       [0.50976011, 0.49023989],\n",
              "       [0.52202134, 0.47797866],\n",
              "       [0.50872563, 0.49127437],\n",
              "       [0.0019267 , 0.9980733 ],\n",
              "       [0.45882369, 0.54117631],\n",
              "       [0.60405881, 0.39594119],\n",
              "       [0.50877159, 0.49122841],\n",
              "       [0.53133834, 0.46866166],\n",
              "       [0.51539643, 0.48460357],\n",
              "       [0.49148876, 0.50851124],\n",
              "       [0.54668012, 0.45331988],\n",
              "       [0.50893617, 0.49106383],\n",
              "       [0.50549121, 0.49450879],\n",
              "       [0.56074296, 0.43925704],\n",
              "       [0.50844525, 0.49155475],\n",
              "       [0.50027373, 0.49972627],\n",
              "       [0.50872496, 0.49127504],\n",
              "       [0.50803471, 0.49196529],\n",
              "       [0.27245888, 0.72754112],\n",
              "       [0.50859618, 0.49140382],\n",
              "       [0.51033912, 0.48966088],\n",
              "       [0.5087733 , 0.4912267 ],\n",
              "       [0.55382989, 0.44617011],\n",
              "       [0.14507751, 0.85492249],\n",
              "       [0.5082296 , 0.4917704 ],\n",
              "       [0.50435614, 0.49564386],\n",
              "       [0.83146986, 0.16853014],\n",
              "       [0.51805588, 0.48194412],\n",
              "       [0.5094592 , 0.4905408 ],\n",
              "       [0.39029159, 0.60970841],\n",
              "       [0.50866129, 0.49133871],\n",
              "       [0.48787143, 0.51212857],\n",
              "       [0.50876019, 0.49123981],\n",
              "       [0.5088002 , 0.4911998 ],\n",
              "       [0.507588  , 0.492412  ],\n",
              "       [0.51489279, 0.48510721],\n",
              "       [0.50967605, 0.49032395],\n",
              "       [0.56583017, 0.43416983],\n",
              "       [0.50542513, 0.49457487],\n",
              "       [0.5225729 , 0.4774271 ],\n",
              "       [0.5091235 , 0.4908765 ],\n",
              "       [0.47445795, 0.52554205],\n",
              "       [0.54422366, 0.45577634],\n",
              "       [0.50853548, 0.49146452],\n",
              "       [0.51359936, 0.48640064],\n",
              "       [0.50868031, 0.49131969],\n",
              "       [0.48060916, 0.51939084],\n",
              "       [0.50830115, 0.49169885],\n",
              "       [0.50870076, 0.49129924],\n",
              "       [0.61073391, 0.38926609],\n",
              "       [0.50882488, 0.49117512],\n",
              "       [0.50980278, 0.49019722],\n",
              "       [0.50887654, 0.49112346],\n",
              "       [0.26311224, 0.73688776],\n",
              "       [0.50872941, 0.49127059],\n",
              "       [0.71215113, 0.28784887],\n",
              "       [0.50891042, 0.49108958],\n",
              "       [0.50876379, 0.49123621],\n",
              "       [0.50869324, 0.49130676],\n",
              "       [0.50875536, 0.49124464],\n",
              "       [0.88884152, 0.11115848],\n",
              "       [0.50876719, 0.49123281],\n",
              "       [0.50875934, 0.49124066],\n",
              "       [0.10826427, 0.89173573],\n",
              "       [0.50876245, 0.49123755],\n",
              "       [0.41185311, 0.58814689],\n",
              "       [0.55376356, 0.44623644],\n",
              "       [0.51406801, 0.48593199],\n",
              "       [0.5087248 , 0.4912752 ],\n",
              "       [0.89734488, 0.10265512],\n",
              "       [0.50909746, 0.49090254],\n",
              "       [0.50974314, 0.49025686],\n",
              "       [0.5085669 , 0.4914331 ],\n",
              "       [0.62970125, 0.37029875],\n",
              "       [0.56025932, 0.43974068],\n",
              "       [0.40993819, 0.59006181],\n",
              "       [0.51616388, 0.48383612],\n",
              "       [0.51044893, 0.48955107],\n",
              "       [0.51022527, 0.48977473],\n",
              "       [0.50879217, 0.49120783],\n",
              "       [0.53594226, 0.46405774],\n",
              "       [0.50898673, 0.49101327],\n",
              "       [0.57192987, 0.42807013],\n",
              "       [0.4988028 , 0.5011972 ],\n",
              "       [0.7987585 , 0.2012415 ],\n",
              "       [0.50875799, 0.49124201],\n",
              "       [0.74062366, 0.25937634],\n",
              "       [0.58448778, 0.41551222],\n",
              "       [0.50899973, 0.49100027],\n",
              "       [0.50886371, 0.49113629],\n",
              "       [0.50867038, 0.49132962],\n",
              "       [0.99244733, 0.00755267],\n",
              "       [0.50873401, 0.49126599],\n",
              "       [0.50912876, 0.49087124],\n",
              "       [0.41938349, 0.58061651],\n",
              "       [0.51220963, 0.48779037],\n",
              "       [0.50705693, 0.49294307],\n",
              "       [0.49373084, 0.50626916],\n",
              "       [0.50874994, 0.49125006],\n",
              "       [0.33827289, 0.66172711],\n",
              "       [0.50068213, 0.49931787],\n",
              "       [0.4776728 , 0.5223272 ],\n",
              "       [0.50873723, 0.49126277],\n",
              "       [0.50893687, 0.49106313],\n",
              "       [0.51984188, 0.48015812],\n",
              "       [0.50915913, 0.49084087],\n",
              "       [0.53004782, 0.46995218],\n",
              "       [0.50626541, 0.49373459],\n",
              "       [0.50877554, 0.49122446],\n",
              "       [0.52963389, 0.47036611],\n",
              "       [0.52003459, 0.47996541],\n",
              "       [0.29775327, 0.70224673],\n",
              "       [0.495166  , 0.504834  ],\n",
              "       [0.50688502, 0.49311498],\n",
              "       [0.50872789, 0.49127211],\n",
              "       [0.50858685, 0.49141315],\n",
              "       [0.50869527, 0.49130473],\n",
              "       [0.57063236, 0.42936764],\n",
              "       [0.60658947, 0.39341053],\n",
              "       [0.50859656, 0.49140344],\n",
              "       [0.45287532, 0.54712468],\n",
              "       [0.59805203, 0.40194797],\n",
              "       [0.16283079, 0.83716921],\n",
              "       [0.5087481 , 0.4912519 ],\n",
              "       [0.50985383, 0.49014617],\n",
              "       [0.50876253, 0.49123747],\n",
              "       [0.44328068, 0.55671932],\n",
              "       [0.46591858, 0.53408142],\n",
              "       [0.50870766, 0.49129234],\n",
              "       [0.50268993, 0.49731007],\n",
              "       [0.65166601, 0.34833399],\n",
              "       [0.48796522, 0.51203478],\n",
              "       [0.50874303, 0.49125697],\n",
              "       [0.03213118, 0.96786882],\n",
              "       [0.50869089, 0.49130911],\n",
              "       [0.50825858, 0.49174142],\n",
              "       [0.56146787, 0.43853213],\n",
              "       [0.50903781, 0.49096219],\n",
              "       [0.07547868, 0.92452132],\n",
              "       [0.508691  , 0.491309  ],\n",
              "       [0.42391565, 0.57608435],\n",
              "       [0.42745678, 0.57254322],\n",
              "       [0.50901378, 0.49098622],\n",
              "       [0.52568285, 0.47431715],\n",
              "       [0.49817087, 0.50182913],\n",
              "       [0.30042084, 0.69957916],\n",
              "       [0.50832274, 0.49167726],\n",
              "       [0.50899955, 0.49100045],\n",
              "       [0.17461045, 0.82538955],\n",
              "       [0.50719243, 0.49280757],\n",
              "       [0.78080562, 0.21919438],\n",
              "       [0.48418009, 0.51581991],\n",
              "       [0.50865546, 0.49134454],\n",
              "       [0.51052663, 0.48947337],\n",
              "       [0.79836647, 0.20163353],\n",
              "       [0.50667865, 0.49332135],\n",
              "       [0.5056728 , 0.4943272 ],\n",
              "       [0.50875232, 0.49124768],\n",
              "       [0.50876905, 0.49123095],\n",
              "       [0.30790021, 0.69209979],\n",
              "       [0.50859126, 0.49140874],\n",
              "       [0.05314212, 0.94685788],\n",
              "       [0.50875185, 0.49124815],\n",
              "       [0.45719161, 0.54280839],\n",
              "       [0.53088062, 0.46911938],\n",
              "       [0.50874563, 0.49125437],\n",
              "       [0.50871894, 0.49128106],\n",
              "       [0.5090077 , 0.4909923 ],\n",
              "       [0.49232163, 0.50767837],\n",
              "       [0.55009885, 0.44990115],\n",
              "       [0.49566139, 0.50433861],\n",
              "       [0.50875012, 0.49124988],\n",
              "       [0.50556658, 0.49443342],\n",
              "       [0.50716167, 0.49283833],\n",
              "       [0.50861686, 0.49138314],\n",
              "       [0.50874336, 0.49125664],\n",
              "       [0.60545137, 0.39454863],\n",
              "       [0.50872709, 0.49127291],\n",
              "       [0.50847145, 0.49152855],\n",
              "       [0.50856514, 0.49143486],\n",
              "       [0.51349575, 0.48650425],\n",
              "       [0.50870796, 0.49129204],\n",
              "       [0.50564475, 0.49435525],\n",
              "       [0.37614668, 0.62385332],\n",
              "       [0.50869899, 0.49130101],\n",
              "       [0.91456063, 0.08543937],\n",
              "       [0.50871193, 0.49128807],\n",
              "       [0.50857429, 0.49142571],\n",
              "       [0.5086907 , 0.4913093 ],\n",
              "       [0.50870932, 0.49129068],\n",
              "       [0.51561034, 0.48438966],\n",
              "       [0.50936473, 0.49063527],\n",
              "       [0.50940694, 0.49059306],\n",
              "       [0.51140741, 0.48859259],\n",
              "       [0.50865389, 0.49134611],\n",
              "       [0.50872171, 0.49127829],\n",
              "       [0.43467594, 0.56532406],\n",
              "       [0.50875906, 0.49124094],\n",
              "       [0.51160424, 0.48839576],\n",
              "       [0.50829652, 0.49170348],\n",
              "       [0.46743281, 0.53256719],\n",
              "       [0.50874488, 0.49125512],\n",
              "       [0.40147697, 0.59852303],\n",
              "       [0.52125161, 0.47874839],\n",
              "       [0.43995109, 0.56004891],\n",
              "       [0.45674019, 0.54325981],\n",
              "       [0.34049126, 0.65950874],\n",
              "       [0.50867359, 0.49132641],\n",
              "       [0.32989438, 0.67010562],\n",
              "       [0.50852848, 0.49147152],\n",
              "       [0.50873613, 0.49126387],\n",
              "       [0.50872427, 0.49127573],\n",
              "       [0.49993649, 0.50006351],\n",
              "       [0.50652046, 0.49347954],\n",
              "       [0.00899113, 0.99100887],\n",
              "       [0.50875859, 0.49124141],\n",
              "       [0.40578648, 0.59421352],\n",
              "       [0.50795387, 0.49204613],\n",
              "       [0.50874061, 0.49125939],\n",
              "       [0.50892156, 0.49107844],\n",
              "       [0.50634766, 0.49365234],\n",
              "       [0.48259823, 0.51740177],\n",
              "       [0.49900402, 0.50099598],\n",
              "       [0.5087323 , 0.4912677 ],\n",
              "       [0.51217817, 0.48782183],\n",
              "       [0.87805032, 0.12194968],\n",
              "       [0.5089594 , 0.4910406 ],\n",
              "       [0.5078799 , 0.4921201 ],\n",
              "       [0.50896157, 0.49103843],\n",
              "       [0.45979649, 0.54020351],\n",
              "       [0.50870753, 0.49129247],\n",
              "       [0.49742779, 0.50257221],\n",
              "       [0.50913489, 0.49086511],\n",
              "       [0.03749043, 0.96250957],\n",
              "       [0.46134352, 0.53865648],\n",
              "       [0.4992556 , 0.5007444 ],\n",
              "       [0.71706566, 0.28293434],\n",
              "       [0.50877725, 0.49122275],\n",
              "       [0.63961955, 0.36038045],\n",
              "       [0.50905013, 0.49094987],\n",
              "       [0.53368401, 0.46631599],\n",
              "       [0.47241122, 0.52758878],\n",
              "       [0.51141189, 0.48858811],\n",
              "       [0.47732508, 0.52267492],\n",
              "       [0.5084805 , 0.4915195 ],\n",
              "       [0.51793417, 0.48206583],\n",
              "       [0.50940105, 0.49059895],\n",
              "       [0.7776823 , 0.2223177 ],\n",
              "       [0.5088898 , 0.4911102 ],\n",
              "       [0.53418912, 0.46581088],\n",
              "       [0.68461963, 0.31538037],\n",
              "       [0.50848404, 0.49151596],\n",
              "       [0.49953183, 0.50046817],\n",
              "       [0.66478298, 0.33521702],\n",
              "       [0.51291363, 0.48708637],\n",
              "       [0.51016635, 0.48983365],\n",
              "       [0.49496211, 0.50503789],\n",
              "       [0.50445717, 0.49554283],\n",
              "       [0.50885965, 0.49114035],\n",
              "       [0.50870513, 0.49129487],\n",
              "       [0.51657813, 0.48342187],\n",
              "       [0.49845318, 0.50154682],\n",
              "       [0.50879082, 0.49120918],\n",
              "       [0.57990241, 0.42009759],\n",
              "       [0.50585834, 0.49414166],\n",
              "       [0.5087526 , 0.4912474 ],\n",
              "       [0.78776158, 0.21223842],\n",
              "       [0.50876242, 0.49123758],\n",
              "       [0.50868169, 0.49131831],\n",
              "       [0.48207289, 0.51792711],\n",
              "       [0.50848743, 0.49151257],\n",
              "       [0.05307787, 0.94692213]])"
            ]
          },
          "execution_count": 29,
          "metadata": {},
          "output_type": "execute_result"
        }
      ],
      "source": [
        "lr.predict_proba(X_test)"
      ]
    },
    {
      "cell_type": "markdown",
      "metadata": {
        "id": "5u_7RiDyIP8U"
      },
      "source": [
        "## Model Evaluation"
      ]
    },
    {
      "cell_type": "code",
      "execution_count": null,
      "metadata": {
        "id": "_AAg8JZSIYAX"
      },
      "outputs": [],
      "source": [
        "from sklearn.metrics import confusion_matrix , classification_report"
      ]
    },
    {
      "cell_type": "code",
      "execution_count": null,
      "metadata": {
        "id": "Aa_7dxOaIjsc",
        "outputId": "d1ffff67-39d9-4b02-a9db-47e44e94ff53"
      },
      "outputs": [
        {
          "name": "stdout",
          "output_type": "stream",
          "text": [
            "[[181   1]\n",
            " [106  76]]\n"
          ]
        }
      ],
      "source": [
        "print(confusion_matrix(y_test,y_pred))"
      ]
    },
    {
      "cell_type": "code",
      "execution_count": null,
      "metadata": {
        "id": "cfvBDg9MIw0R",
        "outputId": "235d733f-d9d1-4c23-9d8c-c35920f8509f"
      },
      "outputs": [
        {
          "name": "stdout",
          "output_type": "stream",
          "text": [
            "              precision    recall  f1-score   support\n",
            "\n",
            "           0       0.63      0.99      0.77       182\n",
            "           1       0.99      0.42      0.59       182\n",
            "\n",
            "    accuracy                           0.71       364\n",
            "   macro avg       0.81      0.71      0.68       364\n",
            "weighted avg       0.81      0.71      0.68       364\n",
            "\n"
          ]
        }
      ],
      "source": [
        "print( classification_report(y_test,y_pred))"
      ]
    },
    {
      "cell_type": "markdown",
      "metadata": {
        "id": "XEZsjZjiJF-1"
      },
      "source": [
        "## Model Prediction"
      ]
    },
    {
      "cell_type": "code",
      "execution_count": null,
      "metadata": {
        "id": "I6bBfF4YJMMs"
      },
      "outputs": [],
      "source": [
        "X_new=df.sample(1)"
      ]
    },
    {
      "cell_type": "code",
      "execution_count": null,
      "metadata": {
        "id": "ILx71UcWJRy1",
        "outputId": "73006d01-f9e7-4b73-81b4-3d68964c932a"
      },
      "outputs": [
        {
          "data": {
            "text/html": [
              "<div>\n",
              "<style scoped>\n",
              "    .dataframe tbody tr th:only-of-type {\n",
              "        vertical-align: middle;\n",
              "    }\n",
              "\n",
              "    .dataframe tbody tr th {\n",
              "        vertical-align: top;\n",
              "    }\n",
              "\n",
              "    .dataframe thead th {\n",
              "        text-align: right;\n",
              "    }\n",
              "</style>\n",
              "<table border=\"1\" class=\"dataframe\">\n",
              "  <thead>\n",
              "    <tr style=\"text-align: right;\">\n",
              "      <th></th>\n",
              "      <th>V1</th>\n",
              "      <th>V2</th>\n",
              "      <th>V3</th>\n",
              "      <th>V4</th>\n",
              "      <th>V5</th>\n",
              "      <th>V6</th>\n",
              "      <th>V7</th>\n",
              "      <th>V8</th>\n",
              "      <th>V9</th>\n",
              "      <th>V10</th>\n",
              "      <th>...</th>\n",
              "      <th>V92</th>\n",
              "      <th>V93</th>\n",
              "      <th>V94</th>\n",
              "      <th>V95</th>\n",
              "      <th>V96</th>\n",
              "      <th>V97</th>\n",
              "      <th>V98</th>\n",
              "      <th>V99</th>\n",
              "      <th>V100</th>\n",
              "      <th>Class</th>\n",
              "    </tr>\n",
              "  </thead>\n",
              "  <tbody>\n",
              "    <tr>\n",
              "      <th>1044</th>\n",
              "      <td>22.41</td>\n",
              "      <td>24.18</td>\n",
              "      <td>21.08</td>\n",
              "      <td>22.24</td>\n",
              "      <td>23.12</td>\n",
              "      <td>21.65</td>\n",
              "      <td>23.59</td>\n",
              "      <td>22.46</td>\n",
              "      <td>24.07</td>\n",
              "      <td>23.88</td>\n",
              "      <td>...</td>\n",
              "      <td>21.4</td>\n",
              "      <td>22.37</td>\n",
              "      <td>22.66</td>\n",
              "      <td>21.31</td>\n",
              "      <td>22.03</td>\n",
              "      <td>20.92</td>\n",
              "      <td>23.34</td>\n",
              "      <td>23.67</td>\n",
              "      <td>23.34</td>\n",
              "      <td>1</td>\n",
              "    </tr>\n",
              "  </tbody>\n",
              "</table>\n",
              "<p>1 rows × 101 columns</p>\n",
              "</div>"
            ],
            "text/plain": [
              "         V1     V2     V3     V4     V5     V6     V7     V8     V9    V10  \\\n",
              "1044  22.41  24.18  21.08  22.24  23.12  21.65  23.59  22.46  24.07  23.88   \n",
              "\n",
              "      ...   V92    V93    V94    V95    V96    V97    V98    V99   V100  Class  \n",
              "1044  ...  21.4  22.37  22.66  21.31  22.03  20.92  23.34  23.67  23.34      1  \n",
              "\n",
              "[1 rows x 101 columns]"
            ]
          },
          "execution_count": 34,
          "metadata": {},
          "output_type": "execute_result"
        }
      ],
      "source": [
        "X_new\n"
      ]
    },
    {
      "cell_type": "code",
      "execution_count": null,
      "metadata": {
        "id": "LnvYfQtgJWZ2",
        "outputId": "efccf24a-55db-412f-a284-dcaaa84f5ded"
      },
      "outputs": [
        {
          "data": {
            "text/plain": [
              "(1, 101)"
            ]
          },
          "execution_count": 35,
          "metadata": {},
          "output_type": "execute_result"
        }
      ],
      "source": [
        "X_new.shape"
      ]
    },
    {
      "cell_type": "code",
      "execution_count": null,
      "metadata": {
        "id": "oBSY8udzJXuE"
      },
      "outputs": [],
      "source": [
        "X_new=X_new.drop('Class',axis=1)"
      ]
    },
    {
      "cell_type": "code",
      "execution_count": null,
      "metadata": {
        "id": "IJMXbiqrJgqb",
        "outputId": "72df84fd-e0e2-4347-beac-4f110ff13879"
      },
      "outputs": [
        {
          "data": {
            "text/html": [
              "<div>\n",
              "<style scoped>\n",
              "    .dataframe tbody tr th:only-of-type {\n",
              "        vertical-align: middle;\n",
              "    }\n",
              "\n",
              "    .dataframe tbody tr th {\n",
              "        vertical-align: top;\n",
              "    }\n",
              "\n",
              "    .dataframe thead th {\n",
              "        text-align: right;\n",
              "    }\n",
              "</style>\n",
              "<table border=\"1\" class=\"dataframe\">\n",
              "  <thead>\n",
              "    <tr style=\"text-align: right;\">\n",
              "      <th></th>\n",
              "      <th>V1</th>\n",
              "      <th>V2</th>\n",
              "      <th>V3</th>\n",
              "      <th>V4</th>\n",
              "      <th>V5</th>\n",
              "      <th>V6</th>\n",
              "      <th>V7</th>\n",
              "      <th>V8</th>\n",
              "      <th>V9</th>\n",
              "      <th>V10</th>\n",
              "      <th>...</th>\n",
              "      <th>V91</th>\n",
              "      <th>V92</th>\n",
              "      <th>V93</th>\n",
              "      <th>V94</th>\n",
              "      <th>V95</th>\n",
              "      <th>V96</th>\n",
              "      <th>V97</th>\n",
              "      <th>V98</th>\n",
              "      <th>V99</th>\n",
              "      <th>V100</th>\n",
              "    </tr>\n",
              "  </thead>\n",
              "  <tbody>\n",
              "    <tr>\n",
              "      <th>1044</th>\n",
              "      <td>22.41</td>\n",
              "      <td>24.18</td>\n",
              "      <td>21.08</td>\n",
              "      <td>22.24</td>\n",
              "      <td>23.12</td>\n",
              "      <td>21.65</td>\n",
              "      <td>23.59</td>\n",
              "      <td>22.46</td>\n",
              "      <td>24.07</td>\n",
              "      <td>23.88</td>\n",
              "      <td>...</td>\n",
              "      <td>20.95</td>\n",
              "      <td>21.4</td>\n",
              "      <td>22.37</td>\n",
              "      <td>22.66</td>\n",
              "      <td>21.31</td>\n",
              "      <td>22.03</td>\n",
              "      <td>20.92</td>\n",
              "      <td>23.34</td>\n",
              "      <td>23.67</td>\n",
              "      <td>23.34</td>\n",
              "    </tr>\n",
              "  </tbody>\n",
              "</table>\n",
              "<p>1 rows × 100 columns</p>\n",
              "</div>"
            ],
            "text/plain": [
              "         V1     V2     V3     V4     V5     V6     V7     V8     V9    V10  \\\n",
              "1044  22.41  24.18  21.08  22.24  23.12  21.65  23.59  22.46  24.07  23.88   \n",
              "\n",
              "      ...    V91   V92    V93    V94    V95    V96    V97    V98    V99   V100  \n",
              "1044  ...  20.95  21.4  22.37  22.66  21.31  22.03  20.92  23.34  23.67  23.34  \n",
              "\n",
              "[1 rows x 100 columns]"
            ]
          },
          "execution_count": 37,
          "metadata": {},
          "output_type": "execute_result"
        }
      ],
      "source": [
        "X_new"
      ]
    },
    {
      "cell_type": "code",
      "execution_count": null,
      "metadata": {
        "id": "tXdmmHd2JkKt",
        "outputId": "f29d31d7-edac-4e3b-fbd8-21af32768d28"
      },
      "outputs": [
        {
          "data": {
            "text/plain": [
              "(1, 100)"
            ]
          },
          "execution_count": 38,
          "metadata": {},
          "output_type": "execute_result"
        }
      ],
      "source": [
        "X_new.shape"
      ]
    },
    {
      "cell_type": "code",
      "execution_count": null,
      "metadata": {
        "id": "v6-RPAQFJpN4"
      },
      "outputs": [],
      "source": [
        "X_new=ss.fit_transform(X_new)"
      ]
    },
    {
      "cell_type": "code",
      "execution_count": null,
      "metadata": {
        "id": "nYVviuMXJuu4"
      },
      "outputs": [],
      "source": [
        "y_pred_new=lr.predict(X_new)"
      ]
    },
    {
      "cell_type": "code",
      "execution_count": null,
      "metadata": {
        "id": "TN0WNEK0J3bb",
        "outputId": "bb034dba-a602-426f-dc7d-faedad4a9bb1"
      },
      "outputs": [
        {
          "data": {
            "text/plain": [
              "array([1], dtype=int64)"
            ]
          },
          "execution_count": 41,
          "metadata": {},
          "output_type": "execute_result"
        }
      ],
      "source": [
        "y_pred_new"
      ]
    },
    {
      "cell_type": "code",
      "execution_count": null,
      "metadata": {
        "id": "6VFnylS4J7EB",
        "outputId": "ee1a6ace-c705-4c81-c8b1-eaee2a3623d9"
      },
      "outputs": [
        {
          "data": {
            "text/plain": [
              "array([[0.49710272, 0.50289728]])"
            ]
          },
          "execution_count": 42,
          "metadata": {},
          "output_type": "execute_result"
        }
      ],
      "source": [
        "lr.predict_proba(X_new)"
      ]
    },
    {
      "cell_type": "markdown",
      "metadata": {
        "id": "vH0GnpODmceA"
      },
      "source": [
        "## Explaination"
      ]
    },
    {
      "cell_type": "markdown",
      "metadata": {
        "id": "dqB7nkRNmceA"
      },
      "source": [
        "### 1. **Project Overview:**\n",
        "   - **Objective**: Predict whether a given set of coordinates on a 2D graph represents a \"Hill\" or a \"Valley.\"\n",
        "   - **Method**: Use Logistic Regression, a supervised machine learning algorithm, to classify the coordinates.\n",
        "\n",
        "### 2. **Data Collection:**\n",
        "   - **Data Source**: The dataset should consist of coordinate pairs (x, y) with labeled outcomes (\"Hill\" or \"Valley\").\n",
        "   - **Features**: The x and y coordinates will be the input features.\n",
        "   - **Labels**: The target output will be a binary label (e.g., 1 for \"Hill,\" 0 for \"Valley\").\n",
        "\n",
        "### 3. **Data Preprocessing:**\n",
        "   - **Cleaning**: Check for any missing or inconsistent data. Handle missing values by removing or imputing them.\n",
        "   - **Feature Scaling**: Normalize or standardize the feature values (coordinates) to ensure uniformity. Logistic regression is sensitive to feature scaling.\n",
        "   - **Label Encoding**: Convert \"Hill\" and \"Valley\" labels into numerical binary values (e.g., Hill = 1, Valley = 0).\n",
        "\n",
        "### 4. **Train-Test Split:**\n",
        "   - **Splitting the Data**: Divide the dataset into training and testing sets. A typical split would be 80% for training and 20% for testing.\n",
        "   - **Reason**: The training set is used to build the model, and the testing set evaluates its performance.\n",
        "\n",
        "### 5. **Logistic Regression Model:**\n",
        "   - **Model Selection**: Logistic regression is chosen as the classifier because it's well-suited for binary classification problems.\n",
        "   - **Training the Model**: Fit the logistic regression model using the training data (x, y coordinates as input, binary labels as output).\n",
        "   - **Cost Function**: Logistic regression minimizes a cost function based on the error in the classification (cross-entropy loss).\n",
        "\n",
        "### 6. **Model Training Process:**\n",
        "   - **Optimization**: Logistic regression uses gradient descent to find the optimal parameters (weights and biases) that minimize the cost function.\n",
        "   - **Binary Decision Boundary**: The logistic function maps the output to a probability between 0 and 1. A threshold (e.g., 0.5) is used to classify whether a point is a \"Hill\" (1) or \"Valley\" (0).\n",
        "\n",
        "### 7. **Model Evaluation:**\n",
        "   - **Accuracy**: Calculate the accuracy of the model on the testing set by comparing predicted labels to actual labels.\n",
        "   - **Confusion Matrix**: Use a confusion matrix to evaluate how many predictions were correct (true positives and true negatives) and incorrect (false positives and false negatives).\n",
        "   - **Precision, Recall, F1 Score**: Measure additional metrics to get a better sense of performance, especially if the dataset is imbalanced.\n",
        "\n",
        "### 8. **Hyperparameter Tuning:**\n",
        "   - **Regularization**: Apply L1 (Lasso) or L2 (Ridge) regularization if overfitting occurs. This adds penalties to large weights to ensure the model generalizes well.\n",
        "   - **Cross-Validation**: Use techniques like k-fold cross-validation to fine-tune the model and reduce overfitting.\n",
        "\n",
        "### 9. **Prediction on New Data:**\n",
        "   - After training, the model can take new (x, y) coordinates and predict whether they represent a \"Hill\" or a \"Valley.\"\n",
        "\n",
        "### 10. **Visualization:**\n",
        "   - **Decision Boundary**: Plot the decision boundary on a 2D graph to visualize the separation between \"Hills\" and \"Valleys.\"\n",
        "   - **Data Points**: Plot the data points on the graph, showing which are classified as hills and valleys.\n",
        "\n",
        "### 11. **Deployment (Optional):**\n",
        "   - Deploy the model in a web application or API that accepts new coordinate inputs and returns predictions.\n",
        "\n"
      ]
    }
  ],
  "metadata": {
    "colab": {
      "provenance": [],
      "include_colab_link": true
    },
    "kaggle": {
      "accelerator": "none",
      "dataSources": [],
      "dockerImageVersionId": 30698,
      "isGpuEnabled": false,
      "isInternetEnabled": false,
      "language": "python",
      "sourceType": "notebook"
    },
    "kernelspec": {
      "display_name": "Python 3 (ipykernel)",
      "language": "python",
      "name": "python3"
    },
    "language_info": {
      "codemirror_mode": {
        "name": "ipython",
        "version": 3
      },
      "file_extension": ".py",
      "mimetype": "text/x-python",
      "name": "python",
      "nbconvert_exporter": "python",
      "pygments_lexer": "ipython3",
      "version": "3.12.3"
    }
  },
  "nbformat": 4,
  "nbformat_minor": 0
}